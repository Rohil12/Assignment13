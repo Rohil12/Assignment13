{
 "cells": [
  {
   "cell_type": "code",
   "execution_count": 1,
   "id": "d0d7d582-0b64-4ede-a95a-5d4a7731fa0e",
   "metadata": {},
   "outputs": [],
   "source": [
    "#Q.1\n",
    "# Flask is a python based micro web framework that allows developers\n",
    "# to build web applications quickly and easily with minimal dependencies\n",
    "# Advantages \n",
    "# flask is a lightweight backend framework with minimal dependencies\n",
    "# Flask is easy to learn because its simple and intutive API makes is easy to learn and use\n",
    "# Flask is a flexible framework \n",
    "# Supports API's\n",
    "# Flask provides built in development server and fast debugger"
   ]
  },
  {
   "cell_type": "markdown",
   "id": "0cb988a8-baa6-4b21-a9f6-e494967c6823",
   "metadata": {},
   "source": [
    "![](Assignment13Q.2.jpg)"
   ]
  },
  {
   "cell_type": "code",
   "execution_count": 5,
   "id": "97de6dae-8997-4488-9982-3e348f1ee5af",
   "metadata": {},
   "outputs": [],
   "source": [
    "#Q.2\n",
    "#![](Assignment13Q.2.jpg)\n",
    "# For Question 2 jupiter notebook pwskills lab is showing the image in this manner \n",
    "# so i will also attach the screenshot in the github repository\n"
   ]
  },
  {
   "cell_type": "code",
   "execution_count": 7,
   "id": "260f9d8e-8341-4074-bb18-273b1e106e11",
   "metadata": {},
   "outputs": [],
   "source": [
    "#Q.3\n",
    "# App routing in flask is the mechanism that connects specific URLs \n",
    "# in your web application with the corresponding python function that handle them\n",
    "# \n",
    "# Meaningful URLs: App routes create more user-friendly and memorable URLs\n",
    "# App routing is a fundamental concept in Flask that enable you to \n",
    "# create well-structured, user friendly and dynamic web applications.\n",
    "#It's the foundation for building various web functionalities, from\n",
    "# simple websites to complex APIs and data-driven applications"
   ]
  },
  {
   "cell_type": "code",
   "execution_count": 17,
   "id": "9e686c00-382a-4ad6-a585-a810ecb25b5f",
   "metadata": {},
   "outputs": [],
   "source": [
    "# Q.4 \n",
    "# I have shared the image on Notebook but is displayed in this manner so i will share the screenshots in github repository "
   ]
  },
  {
   "cell_type": "markdown",
   "id": "3da5261f-1736-4e45-9872-4d2123b5c114",
   "metadata": {},
   "source": [
    "![](Assignment13Q.4.jpg)"
   ]
  },
  {
   "cell_type": "markdown",
   "id": "6b8ab1f6-ec2b-4e05-ad4d-36c3758cdd76",
   "metadata": {},
   "source": [
    "![](Assignment13Q.4part2.jpg)"
   ]
  },
  {
   "cell_type": "code",
   "execution_count": null,
   "id": "89f75970-e65f-456a-b025-111944d4aa39",
   "metadata": {},
   "outputs": [],
   "source": [
    "from flask import Flask\n",
    "\n",
    "app = Flask(__name__)\n",
    "\n",
    "@app.route(\"/\")\n",
    "def welcome():\n",
    "    return\"Welcome to ABC C orporation\"\n"
   ]
  }
 ],
 "metadata": {
  "kernelspec": {
   "display_name": "Python 3 (ipykernel)",
   "language": "python",
   "name": "python3"
  },
  "language_info": {
   "codemirror_mode": {
    "name": "ipython",
    "version": 3
   },
   "file_extension": ".py",
   "mimetype": "text/x-python",
   "name": "python",
   "nbconvert_exporter": "python",
   "pygments_lexer": "ipython3",
   "version": "3.10.8"
  }
 },
 "nbformat": 4,
 "nbformat_minor": 5
}
